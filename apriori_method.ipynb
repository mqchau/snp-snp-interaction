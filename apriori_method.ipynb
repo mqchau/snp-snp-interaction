{
 "cells": [
  {
   "cell_type": "markdown",
   "metadata": {},
   "source": [
    "# Apriori method to determine SNP-SNP interaction\n",
    "\n",
    "### Step 1: read in datafile"
   ]
  },
  {
   "cell_type": "code",
   "execution_count": 1,
   "metadata": {
    "collapsed": true
   },
   "outputs": [],
   "source": [
    "all_data <- read.csv(\"datafile/sample1.csv\", head=FALSE, sep=\",\")"
   ]
  },
  {
   "cell_type": "markdown",
   "metadata": {},
   "source": [
    "### Step 2: determine number of snp, sample, num_case, num_control"
   ]
  },
  {
   "cell_type": "code",
   "execution_count": 2,
   "metadata": {
    "collapsed": true
   },
   "outputs": [],
   "source": [
    "num_snp = ncol(all_data)\n",
    "num_case = nrow(all_data)"
   ]
  },
  {
   "cell_type": "markdown",
   "metadata": {},
   "source": [
    "### Step 3: calculate correlation between each SNP and case"
   ]
  },
  {
   "cell_type": "code",
   "execution_count": 4,
   "metadata": {
    "collapsed": false
   },
   "outputs": [],
   "source": [
    "all_snp_single_correlation = matrix(nrow=num_snp,ncol=1)\n",
    "for(snp_idx in 1:num_snp){\n",
    "    all_snp_single_correlation[snp_idx,1] = length(which(all_data[,snp_idx] == 1)) / num_case\n",
    "}"
   ]
  },
  {
   "cell_type": "markdown",
   "metadata": {},
   "source": [
    "### Step 4: select snp index that has correlation above threshold"
   ]
  },
  {
   "cell_type": "code",
   "execution_count": 5,
   "metadata": {
    "collapsed": true
   },
   "outputs": [],
   "source": [
    "correlation_threshold = 0.80\n",
    "passed_threshold_single = which(all_snp_single_correlation[,1] > correlation_threshold)"
   ]
  },
  {
   "cell_type": "code",
   "execution_count": 10,
   "metadata": {
    "collapsed": false
   },
   "outputs": [
    {
     "data": {
      "text/html": [
       "<ol class=list-inline>\n",
       "\t<li>11</li>\n",
       "\t<li>16</li>\n",
       "</ol>\n"
      ],
      "text/latex": [
       "\\begin{enumerate*}\n",
       "\\item 11\n",
       "\\item 16\n",
       "\\end{enumerate*}\n"
      ],
      "text/markdown": [
       "1. 11\n",
       "2. 16\n",
       "\n",
       "\n"
      ],
      "text/plain": [
       "[1] 11 16"
      ]
     },
     "execution_count": 10,
     "metadata": {},
     "output_type": "execute_result"
    }
   ],
   "source": [
    "head(passed_threshold_single)"
   ]
  },
  {
   "cell_type": "markdown",
   "metadata": {},
   "source": [
    "### Step 5: find all combinations of the passed threshold snp and calculate their correlation"
   ]
  },
  {
   "cell_type": "code",
   "execution_count": 12,
   "metadata": {
    "collapsed": false
   },
   "outputs": [],
   "source": [
    "all_snp_combination = combn(passed_threshold_single, 2)\n",
    "num_combination = ncol(all_snp_combination)\n",
    "\n",
    "percent_case_explained <- function(snp_comb){\n",
    "    num_case_match = length(which(all_data[,snp_comb[1]] == 1 & \n",
    "                                  all_data[,snp_comb[2]] == 1))\n",
    "    return(num_case_match/num_case)\n",
    "}\n",
    "\n",
    "all_snp_comb_frame = data.frame(snp1=integer(num_combination),\n",
    "                               snp2=integer(num_combination),\n",
    "                               case_percent=double(num_combination))\n",
    "\n",
    "for (comb_idx in 1:ncol(all_snp_combination)){\n",
    "    all_snp_comb_frame$snp1[comb_idx] = all_snp_combination[1,comb_idx]\n",
    "    all_snp_comb_frame$snp2[comb_idx] = all_snp_combination[2,comb_idx]\n",
    "    all_snp_comb_frame$case_percent[comb_idx] = percent_case_explained(all_snp_combination[1:2, comb_idx])\n",
    "}\n",
    "\n"
   ]
  },
  {
   "cell_type": "code",
   "execution_count": 14,
   "metadata": {
    "collapsed": false
   },
   "outputs": [
    {
     "data": {
      "text/html": [
       "<table>\n",
       "<thead><tr><th></th><th scope=col>snp1</th><th scope=col>snp2</th><th scope=col>case_percent</th></tr></thead>\n",
       "<tbody>\n",
       "\t<tr><th scope=row>1</th><td>11</td><td>16</td><td>0.88</td></tr>\n",
       "</tbody>\n",
       "</table>\n"
      ],
      "text/latex": [
       "\\begin{tabular}{r|lll}\n",
       "  & snp1 & snp2 & case_percent\\\\\n",
       "\\hline\n",
       "\t1 & 11 & 16 & 0.88\\\\\n",
       "\\end{tabular}\n"
      ],
      "text/plain": [
       "  snp1 snp2 case_percent\n",
       "1   11   16         0.88"
      ]
     },
     "execution_count": 14,
     "metadata": {},
     "output_type": "execute_result"
    }
   ],
   "source": [
    "probable_snp_comb_case = subset(all_snp_comb_frame, case_percent > correlation_threshold)\n",
    "probable_snp_comb_case"
   ]
  },
  {
   "cell_type": "code",
   "execution_count": null,
   "metadata": {
    "collapsed": true
   },
   "outputs": [],
   "source": []
  }
 ],
 "metadata": {
  "kernelspec": {
   "display_name": "R",
   "language": "R",
   "name": "ir"
  },
  "language_info": {
   "codemirror_mode": "r",
   "file_extension": ".r",
   "mimetype": "text/x-r-source",
   "name": "R",
   "pygments_lexer": "r",
   "version": "3.2.5"
  }
 },
 "nbformat": 4,
 "nbformat_minor": 0
}
