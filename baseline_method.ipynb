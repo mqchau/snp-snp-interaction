{
 "cells": [
  {
   "cell_type": "markdown",
   "metadata": {},
   "source": [
    "# Baseline method to determine SNP-SNP interaction\n",
    "\n",
    "### Step 1: read in datafile"
   ]
  },
  {
   "cell_type": "code",
   "execution_count": 42,
   "metadata": {
    "collapsed": true
   },
   "outputs": [],
   "source": [
    "all_data <- read.csv(\"datafile/sample1.csv\", head=FALSE, sep=\",\")"
   ]
  },
  {
   "cell_type": "markdown",
   "metadata": {},
   "source": [
    "### Step 2: determine number of snp, sample, num_case, num_control"
   ]
  },
  {
   "cell_type": "code",
   "execution_count": 43,
   "metadata": {
    "collapsed": true
   },
   "outputs": [],
   "source": [
    "num_snp = ncol(all_data) - 1\n",
    "num_sample = nrow(all_data)\n",
    "case_control_col = ncol(all_data)\n",
    "num_case = length(which(all_data[,case_control_col] == 1))\n",
    "num_control = length(which(all_data[,case_control_col] == 0))"
   ]
  },
  {
   "cell_type": "markdown",
   "metadata": {},
   "source": [
    "### Step 3: get all combinations of snp index"
   ]
  },
  {
   "cell_type": "code",
   "execution_count": 44,
   "metadata": {
    "collapsed": false
   },
   "outputs": [],
   "source": [
    "all_snp_combination = combn(num_snp, 2)"
   ]
  },
  {
   "cell_type": "markdown",
   "metadata": {},
   "source": [
    "### Step 4: define functions to determine how many percent of cases or control can be determined from this combination"
   ]
  },
  {
   "cell_type": "code",
   "execution_count": 45,
   "metadata": {
    "collapsed": false
   },
   "outputs": [],
   "source": [
    "percent_case_explained <- function(snp_comb){\n",
    "    num_case_match = length(which(all_data[,snp_comb[1]] == 1 & \n",
    "                                  all_data[,snp_comb[2]] == 1 & \n",
    "                                  all_data[,case_control_col] == 1))\n",
    "    return(num_case_match/num_case)\n",
    "}\n",
    "\n",
    "percent_control_explained <- function(snp_comb){\n",
    "    num_case_match = length(which(all_data[,snp_comb[1]] == 1 & \n",
    "                                  all_data[,snp_comb[2]] == 1 & \n",
    "                                  all_data[,case_control_col] == 0))\n",
    "    return(num_case_match/num_control)\n",
    "}"
   ]
  },
  {
   "cell_type": "markdown",
   "metadata": {},
   "source": [
    "### Step 5: iterate through all combinations and calculate percent explained in case and control"
   ]
  },
  {
   "cell_type": "code",
   "execution_count": 46,
   "metadata": {
    "collapsed": false
   },
   "outputs": [],
   "source": [
    "num_combination = ncol(all_snp_combination)\n",
    "all_snp_comb_frame = data.frame(snp1=integer(num_combination),\n",
    "                               snp2=integer(num_combination),\n",
    "                               case_percent=double(num_combination),\n",
    "                               control_percent=double(num_combination))\n",
    "\n",
    "for (comb_idx in 1:ncol(all_snp_combination)){\n",
    "    all_snp_comb_frame$snp1[comb_idx] = all_snp_combination[1,comb_idx]\n",
    "    all_snp_comb_frame$snp2[comb_idx] = all_snp_combination[2,comb_idx]\n",
    "    all_snp_comb_frame$case_percent[comb_idx] = percent_case_explained(all_snp_combination[1:2, comb_idx])\n",
    "    all_snp_comb_frame$control_percent[comb_idx] = percent_control_explained(all_snp_combination[1:2, comb_idx])\n",
    "}"
   ]
  },
  {
   "cell_type": "markdown",
   "metadata": {},
   "source": [
    "### Step 6: select combinations that is about threshold of percent explained"
   ]
  },
  {
   "cell_type": "code",
   "execution_count": 47,
   "metadata": {
    "collapsed": false
   },
   "outputs": [],
   "source": [
    "explained_threshold = 0.80\n",
    "probable_snp_comb_case = subset(all_snp_comb_frame, case_percent > explained_threshold)\n",
    "probable_snp_comb_control = subset(all_snp_comb_frame, control_percent > explained_threshold)"
   ]
  }
 ],
 "metadata": {
  "kernelspec": {
   "display_name": "R",
   "language": "R",
   "name": "ir"
  },
  "language_info": {
   "codemirror_mode": "r",
   "file_extension": ".r",
   "mimetype": "text/x-r-source",
   "name": "R",
   "pygments_lexer": "r",
   "version": "3.2.2"
  }
 },
 "nbformat": 4,
 "nbformat_minor": 0
}
