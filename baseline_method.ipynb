{
 "cells": [
  {
   "cell_type": "markdown",
   "metadata": {},
   "source": [
    "# Baseline method to determine SNP-SNP interaction\n",
    "\n",
    "### Step 1: read in datafile"
   ]
  },
  {
   "cell_type": "code",
   "execution_count": 7,
   "metadata": {
    "collapsed": true
   },
   "outputs": [],
   "source": [
    "all_data <- read.csv(\"datafile/sample2.csv\", head=FALSE, sep=\",\")"
   ]
  },
  {
   "cell_type": "markdown",
   "metadata": {},
   "source": [
    "### Step 2: determine number of snp, sample, num_case, num_control"
   ]
  },
  {
   "cell_type": "code",
   "execution_count": 8,
   "metadata": {
    "collapsed": true
   },
   "outputs": [],
   "source": [
    "num_snp = ncol(all_data)\n",
    "num_case = nrow(all_data)"
   ]
  },
  {
   "cell_type": "markdown",
   "metadata": {},
   "source": [
    "### Step 3: get all combinations of snp index"
   ]
  },
  {
   "cell_type": "code",
   "execution_count": null,
   "metadata": {
    "collapsed": false
   },
   "outputs": [],
   "source": [
    "all_snp_combination = combn(num_snp, 2)"
   ]
  },
  {
   "cell_type": "markdown",
   "metadata": {},
   "source": [
    "### Step 4: define functions to determine how many percent of cases or control can be determined from this combination"
   ]
  },
  {
   "cell_type": "code",
   "execution_count": 10,
   "metadata": {
    "collapsed": false
   },
   "outputs": [],
   "source": [
    "percent_case_explained <- function(snp_comb){\n",
    "    num_case_match = length(which(all_data[,snp_comb[1]] == 1 & \n",
    "                                  all_data[,snp_comb[2]] == 1))\n",
    "    return(num_case_match/num_case)\n",
    "}"
   ]
  },
  {
   "cell_type": "markdown",
   "metadata": {},
   "source": [
    "### Step 5: iterate through all combinations and calculate percent explained in case and control"
   ]
  },
  {
   "cell_type": "code",
   "execution_count": 11,
   "metadata": {
    "collapsed": false
   },
   "outputs": [],
   "source": [
    "num_combination = ncol(all_snp_combination)\n",
    "all_snp_comb_frame = data.frame(snp1=integer(num_combination),\n",
    "                               snp2=integer(num_combination),\n",
    "                               case_percent=double(num_combination))\n",
    "\n",
    "for (comb_idx in 1:ncol(all_snp_combination)){\n",
    "    all_snp_comb_frame$snp1[comb_idx] = all_snp_combination[1,comb_idx]\n",
    "    all_snp_comb_frame$snp2[comb_idx] = all_snp_combination[2,comb_idx]\n",
    "    all_snp_comb_frame$case_percent[comb_idx] = percent_case_explained(all_snp_combination[1:2, comb_idx])\n",
    "}"
   ]
  },
  {
   "cell_type": "markdown",
   "metadata": {},
   "source": [
    "### Step 6: select combinations that is about threshold of percent explained"
   ]
  },
  {
   "cell_type": "code",
   "execution_count": 12,
   "metadata": {
    "collapsed": false
   },
   "outputs": [
    {
     "data": {
      "text/html": [
       "<table>\n",
       "<thead><tr><th></th><th scope=col>snp1</th><th scope=col>snp2</th><th scope=col>case_percent</th></tr></thead>\n",
       "<tbody>\n",
       "</tbody>\n",
       "</table>\n"
      ],
      "text/latex": [
       "\\begin{tabular}{r|lll}\n",
       "  & snp1 & snp2 & case_percent\\\\\n",
       "\\hline\n",
       "\\end{tabular}\n"
      ],
      "text/plain": [
       "[1] snp1         snp2         case_percent\n",
       "<0 rows> (or 0-length row.names)"
      ]
     },
     "execution_count": 12,
     "metadata": {},
     "output_type": "execute_result"
    }
   ],
   "source": [
    "explained_threshold = 0.80\n",
    "probable_snp_comb_case = subset(all_snp_comb_frame, case_percent > explained_threshold)\n",
    "probable_snp_comb_case"
   ]
  },
  {
   "cell_type": "code",
   "execution_count": null,
   "metadata": {
    "collapsed": true
   },
   "outputs": [],
   "source": []
  }
 ],
 "metadata": {
  "kernelspec": {
   "display_name": "R",
   "language": "R",
   "name": "ir"
  },
  "language_info": {
   "codemirror_mode": "r",
   "file_extension": ".r",
   "mimetype": "text/x-r-source",
   "name": "R",
   "pygments_lexer": "r",
   "version": "3.2.5"
  }
 },
 "nbformat": 4,
 "nbformat_minor": 0
}
